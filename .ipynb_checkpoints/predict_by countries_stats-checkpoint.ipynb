{
 "cells": [
  {
   "cell_type": "markdown",
   "metadata": {},
   "source": [
    "# **Import necessary packages**"
   ]
  },
  {
   "cell_type": "code",
   "execution_count": 1,
   "metadata": {},
   "outputs": [
    {
     "name": "stderr",
     "output_type": "stream",
     "text": [
      "/home/angps/anaconda3/envs/angps/lib/python3.6/site-packages/sklearn/cross_validation.py:41: DeprecationWarning: This module was deprecated in version 0.18 in favor of the model_selection module into which all the refactored classes and functions are moved. Also note that the interface of the new CV iterators are different from that of this module. This module will be removed in 0.20.\n",
      "  \"This module will be removed in 0.20.\", DeprecationWarning)\n",
      "/home/angps/anaconda3/envs/angps/lib/python3.6/site-packages/sklearn/grid_search.py:42: DeprecationWarning: This module was deprecated in version 0.18 in favor of the model_selection module into which all the refactored classes and functions are moved. This module will be removed in 0.20.\n",
      "  DeprecationWarning)\n"
     ]
    }
   ],
   "source": [
    "%matplotlib inline \n",
    "import numpy as np \n",
    "import scipy as sp \n",
    "import matplotlib as mpl\n",
    "import matplotlib.cm as cm \n",
    "import matplotlib.pyplot as plt\n",
    "import pandas as pd \n",
    "from pandas.tools.plotting import scatter_matrix\n",
    "pd.set_option('display.width', 500)\n",
    "pd.set_option('display.max_columns', 100)\n",
    "pd.set_option('display.notebook_repr_html', True)\n",
    "import seaborn as sns\n",
    "sns.set(style=\"whitegrid\")\n",
    "from sklearn.model_selection import train_test_split\n",
    "from sklearn.pipeline import make_pipeline\n",
    "from sklearn.ensemble import RandomForestClassifier\n",
    "from sklearn.feature_selection import SelectKBest\n",
    "from sklearn.grid_search import GridSearchCV\n",
    "from sklearn.ensemble.gradient_boosting import GradientBoostingClassifier\n",
    "from sklearn.linear_model import LogisticRegression\n",
    "from sklearn.linear_model import LinearRegression\n",
    "import statsmodels.formula.api as sm\n",
    "from sklearn.multiclass import OneVsRestClassifier\n",
    "from sklearn.svm import SVC, LinearSVC\n",
    "from sklearn.neighbors import KNeighborsClassifier\n",
    "from sklearn.tree import DecisionTreeClassifier\n",
    "from sklearn.naive_bayes import GaussianNB\n",
    "from sklearn.linear_model import Perceptron\n",
    "from sklearn.linear_model import SGDClassifier\n",
    "from sklearn.feature_selection import SelectFromModel\n",
    "from sklearn.model_selection import KFold\n",
    "from sklearn.model_selection import cross_val_score\n",
    "from sklearn.metrics import confusion_matrix\n",
    "from sklearn.metrics import accuracy_score\n",
    "import xgboost as xgb\n",
    "from sklearn.metrics import roc_curve, auc\n",
    "import scikitplot as skplt\n",
    "from sklearn.metrics import average_precision_score\n",
    "from sklearn.metrics import precision_score\n",
    "from sklearn.metrics import f1_score\n",
    "import warnings\n",
    "warnings.filterwarnings('ignore')"
   ]
  },
  {
   "cell_type": "markdown",
   "metadata": {},
   "source": [
    "# **Import dataset**"
   ]
  },
  {
   "cell_type": "code",
   "execution_count": 2,
   "metadata": {},
   "outputs": [
    {
     "data": {
      "text/html": [
       "<div>\n",
       "<style scoped>\n",
       "    .dataframe tbody tr th:only-of-type {\n",
       "        vertical-align: middle;\n",
       "    }\n",
       "\n",
       "    .dataframe tbody tr th {\n",
       "        vertical-align: top;\n",
       "    }\n",
       "\n",
       "    .dataframe thead th {\n",
       "        text-align: right;\n",
       "    }\n",
       "</style>\n",
       "<table border=\"1\" class=\"dataframe\">\n",
       "  <thead>\n",
       "    <tr style=\"text-align: right;\">\n",
       "      <th></th>\n",
       "      <th>date</th>\n",
       "      <th>home_team</th>\n",
       "      <th>away_team</th>\n",
       "      <th>home_score</th>\n",
       "      <th>away_score</th>\n",
       "      <th>country</th>\n",
       "      <th>neutral</th>\n",
       "      <th>impt</th>\n",
       "      <th>home_ranking</th>\n",
       "      <th>home_total_points</th>\n",
       "      <th>home_prev_points</th>\n",
       "      <th>home_rank_change</th>\n",
       "      <th>home_cur_year_avg_weighted</th>\n",
       "      <th>home_last_year_avg_weighted</th>\n",
       "      <th>home_2_year_avg_weighted</th>\n",
       "      <th>home_3_year_avg_weighted</th>\n",
       "      <th>away_ranking</th>\n",
       "      <th>away_total_points</th>\n",
       "      <th>away_prev_points</th>\n",
       "      <th>away_rank_change</th>\n",
       "      <th>away_cur_year_avg_weighted</th>\n",
       "      <th>away_last_year_avg_weighted</th>\n",
       "      <th>away_2_year_avg_weighted</th>\n",
       "      <th>away_3_year_avg_weighted</th>\n",
       "      <th>diff_in_ranking</th>\n",
       "      <th>home_mean_weighted_over_years</th>\n",
       "      <th>away_mean_weighted_over_years</th>\n",
       "      <th>diff_in_mean_weighted_over_years</th>\n",
       "      <th>Result</th>\n",
       "    </tr>\n",
       "  </thead>\n",
       "  <tbody>\n",
       "    <tr>\n",
       "      <th>0</th>\n",
       "      <td>2011-09</td>\n",
       "      <td>Poland</td>\n",
       "      <td>Mexico</td>\n",
       "      <td>1</td>\n",
       "      <td>1</td>\n",
       "      <td>2</td>\n",
       "      <td>0</td>\n",
       "      <td>0</td>\n",
       "      <td>65.0</td>\n",
       "      <td>495.53</td>\n",
       "      <td>498.0</td>\n",
       "      <td>0.0</td>\n",
       "      <td>265.17</td>\n",
       "      <td>69.30</td>\n",
       "      <td>103.32</td>\n",
       "      <td>57.74</td>\n",
       "      <td>20.0</td>\n",
       "      <td>866.38</td>\n",
       "      <td>864.0</td>\n",
       "      <td>0.0</td>\n",
       "      <td>485.18</td>\n",
       "      <td>166.50</td>\n",
       "      <td>142.41</td>\n",
       "      <td>72.29</td>\n",
       "      <td>45.0</td>\n",
       "      <td>123.8825</td>\n",
       "      <td>216.5950</td>\n",
       "      <td>-92.7125</td>\n",
       "      <td>1</td>\n",
       "    </tr>\n",
       "    <tr>\n",
       "      <th>1</th>\n",
       "      <td>2011-09</td>\n",
       "      <td>Argentina</td>\n",
       "      <td>Nigeria</td>\n",
       "      <td>3</td>\n",
       "      <td>1</td>\n",
       "      <td>0</td>\n",
       "      <td>1</td>\n",
       "      <td>0</td>\n",
       "      <td>10.0</td>\n",
       "      <td>1024.16</td>\n",
       "      <td>1017.0</td>\n",
       "      <td>-1.0</td>\n",
       "      <td>369.67</td>\n",
       "      <td>422.60</td>\n",
       "      <td>136.81</td>\n",
       "      <td>95.08</td>\n",
       "      <td>43.0</td>\n",
       "      <td>613.45</td>\n",
       "      <td>659.0</td>\n",
       "      <td>-5.0</td>\n",
       "      <td>237.32</td>\n",
       "      <td>203.51</td>\n",
       "      <td>90.37</td>\n",
       "      <td>82.25</td>\n",
       "      <td>-33.0</td>\n",
       "      <td>256.0400</td>\n",
       "      <td>153.3625</td>\n",
       "      <td>102.6775</td>\n",
       "      <td>2</td>\n",
       "    </tr>\n",
       "    <tr>\n",
       "      <th>2</th>\n",
       "      <td>2011-09</td>\n",
       "      <td>Poland</td>\n",
       "      <td>Germany</td>\n",
       "      <td>2</td>\n",
       "      <td>2</td>\n",
       "      <td>2</td>\n",
       "      <td>0</td>\n",
       "      <td>0</td>\n",
       "      <td>65.0</td>\n",
       "      <td>495.53</td>\n",
       "      <td>498.0</td>\n",
       "      <td>0.0</td>\n",
       "      <td>265.17</td>\n",
       "      <td>69.30</td>\n",
       "      <td>103.32</td>\n",
       "      <td>57.74</td>\n",
       "      <td>3.0</td>\n",
       "      <td>1289.99</td>\n",
       "      <td>1330.0</td>\n",
       "      <td>0.0</td>\n",
       "      <td>557.21</td>\n",
       "      <td>460.73</td>\n",
       "      <td>148.20</td>\n",
       "      <td>123.85</td>\n",
       "      <td>62.0</td>\n",
       "      <td>123.8825</td>\n",
       "      <td>322.4975</td>\n",
       "      <td>-198.6150</td>\n",
       "      <td>1</td>\n",
       "    </tr>\n",
       "    <tr>\n",
       "      <th>3</th>\n",
       "      <td>2011-09</td>\n",
       "      <td>Saudi Arabia</td>\n",
       "      <td>Australia</td>\n",
       "      <td>1</td>\n",
       "      <td>3</td>\n",
       "      <td>2</td>\n",
       "      <td>0</td>\n",
       "      <td>1</td>\n",
       "      <td>97.0</td>\n",
       "      <td>359.41</td>\n",
       "      <td>372.0</td>\n",
       "      <td>-10.0</td>\n",
       "      <td>138.11</td>\n",
       "      <td>100.13</td>\n",
       "      <td>61.61</td>\n",
       "      <td>59.56</td>\n",
       "      <td>19.0</td>\n",
       "      <td>881.63</td>\n",
       "      <td>837.0</td>\n",
       "      <td>3.0</td>\n",
       "      <td>422.74</td>\n",
       "      <td>225.90</td>\n",
       "      <td>148.18</td>\n",
       "      <td>84.81</td>\n",
       "      <td>78.0</td>\n",
       "      <td>89.8525</td>\n",
       "      <td>220.4075</td>\n",
       "      <td>-130.5550</td>\n",
       "      <td>0</td>\n",
       "    </tr>\n",
       "    <tr>\n",
       "      <th>4</th>\n",
       "      <td>2011-09</td>\n",
       "      <td>Argentina</td>\n",
       "      <td>Brazil</td>\n",
       "      <td>0</td>\n",
       "      <td>0</td>\n",
       "      <td>2</td>\n",
       "      <td>0</td>\n",
       "      <td>0</td>\n",
       "      <td>10.0</td>\n",
       "      <td>1024.16</td>\n",
       "      <td>1017.0</td>\n",
       "      <td>-1.0</td>\n",
       "      <td>369.67</td>\n",
       "      <td>422.60</td>\n",
       "      <td>136.81</td>\n",
       "      <td>95.08</td>\n",
       "      <td>7.0</td>\n",
       "      <td>1131.52</td>\n",
       "      <td>1156.0</td>\n",
       "      <td>-1.0</td>\n",
       "      <td>377.18</td>\n",
       "      <td>331.71</td>\n",
       "      <td>313.65</td>\n",
       "      <td>108.98</td>\n",
       "      <td>3.0</td>\n",
       "      <td>256.0400</td>\n",
       "      <td>282.8800</td>\n",
       "      <td>-26.8400</td>\n",
       "      <td>1</td>\n",
       "    </tr>\n",
       "  </tbody>\n",
       "</table>\n",
       "</div>"
      ],
      "text/plain": [
       "      date     home_team  away_team  home_score  away_score  country  neutral  impt  home_ranking  home_total_points  home_prev_points  home_rank_change  home_cur_year_avg_weighted  home_last_year_avg_weighted  home_2_year_avg_weighted  home_3_year_avg_weighted  away_ranking  away_total_points  away_prev_points  away_rank_change  away_cur_year_avg_weighted  away_last_year_avg_weighted  away_2_year_avg_weighted  away_3_year_avg_weighted  diff_in_ranking  home_mean_weighted_over_years  \\\n",
       "0  2011-09        Poland     Mexico           1           1        2        0     0          65.0             495.53             498.0               0.0                      265.17                        69.30                    103.32                     57.74          20.0             866.38             864.0               0.0                      485.18                       166.50                    142.41                     72.29             45.0                       123.8825   \n",
       "1  2011-09     Argentina    Nigeria           3           1        0        1     0          10.0            1024.16            1017.0              -1.0                      369.67                       422.60                    136.81                     95.08          43.0             613.45             659.0              -5.0                      237.32                       203.51                     90.37                     82.25            -33.0                       256.0400   \n",
       "2  2011-09        Poland    Germany           2           2        2        0     0          65.0             495.53             498.0               0.0                      265.17                        69.30                    103.32                     57.74           3.0            1289.99            1330.0               0.0                      557.21                       460.73                    148.20                    123.85             62.0                       123.8825   \n",
       "3  2011-09  Saudi Arabia  Australia           1           3        2        0     1          97.0             359.41             372.0             -10.0                      138.11                       100.13                     61.61                     59.56          19.0             881.63             837.0               3.0                      422.74                       225.90                    148.18                     84.81             78.0                        89.8525   \n",
       "4  2011-09     Argentina     Brazil           0           0        2        0     0          10.0            1024.16            1017.0              -1.0                      369.67                       422.60                    136.81                     95.08           7.0            1131.52            1156.0              -1.0                      377.18                       331.71                    313.65                    108.98              3.0                       256.0400   \n",
       "\n",
       "   away_mean_weighted_over_years  diff_in_mean_weighted_over_years  Result  \n",
       "0                       216.5950                          -92.7125       1  \n",
       "1                       153.3625                          102.6775       2  \n",
       "2                       322.4975                         -198.6150       1  \n",
       "3                       220.4075                         -130.5550       0  \n",
       "4                       282.8800                          -26.8400       1  "
      ]
     },
     "execution_count": 2,
     "metadata": {},
     "output_type": "execute_result"
    }
   ],
   "source": [
    "direc=\"/home/angps/Documents/WorldCupPrediction/cleaned dataset/\"\n",
    "results = pd.read_csv(direc + \"cleaned_matches.csv\")\n",
    "results = results.drop([\"Unnamed: 0\"],axis=1)\n",
    "results.head()"
   ]
  },
  {
   "cell_type": "code",
   "execution_count": 3,
   "metadata": {},
   "outputs": [],
   "source": [
    "x = results.loc[:,[\"country\",\"impt\",\"home_rank_change\",\"away_rank_change\",\"diff_in_ranking\",\"diff_in_mean_weighted_over_years\"]]\n",
    "y=results.loc[:,\"Result\"]"
   ]
  },
  {
   "cell_type": "code",
   "execution_count": 4,
   "metadata": {},
   "outputs": [
    {
     "data": {
      "text/plain": [
       "<matplotlib.axes._subplots.AxesSubplot at 0x7fa307fde6a0>"
      ]
     },
     "execution_count": 4,
     "metadata": {},
     "output_type": "execute_result"
    },
    {
     "data": {
      "image/png": "[encoded data removed]",
      "text/plain": [
       "<Figure size 432x432 with 2 Axes>"
      ]
     },
     "metadata": {},
     "output_type": "display_data"
    }
   ],
   "source": [
    "f,ax = plt.subplots(figsize=(6,6))\n",
    "sns.heatmap(x.corr(), annot=True, linewidths=0.5, fmt= '.2f',ax=ax)"
   ]
  },
  {
   "cell_type": "markdown",
   "metadata": {},
   "source": [
    "# **Splitting into training and test set**"
   ]
  },
  {
   "cell_type": "code",
   "execution_count": 5,
   "metadata": {},
   "outputs": [],
   "source": [
    "x_train,x_test,y_train,y_test=train_test_split(x,y,test_size=0.2,random_state=0)"
   ]
  },
  {
   "cell_type": "code",
   "execution_count": 6,
   "metadata": {},
   "outputs": [],
   "source": [
    "k_fold = KFold(n_splits=5, shuffle=True, random_state=0)"
   ]
  },
  {
   "cell_type": "code",
   "execution_count": 7,
   "metadata": {},
   "outputs": [],
   "source": [
    "def train_acc_score(model):\n",
    "    return round(np.mean(cross_val_score(model,x_train,y_train,cv=k_fold,scoring=\"accuracy\")),2)\n",
    "def test_acc_score(model):\n",
    "    return round(accuracy_score(y_test, model.predict(x_test)),2)\n",
    "def train_prec_score(model):\n",
    "    return round(precision_score(y_train,model.predict(x_train),average='macro'),2)\n",
    "def test_prec_score(model):\n",
    "    return round(precision_score(y_test,model.predict(x_test),average='macro'),2)\n",
    "def train_f1(model):\n",
    "    return round(f1_score(y_train,model.predict(x_train),average='macro'),2)\n",
    "def test_f1(model):\n",
    "    return round(f1_score(y_test,model.predict(x_test),average='macro'),2)\n",
    "def confusion_matrix_model(model_used):\n",
    "    cm=confusion_matrix(y_test,model_used.predict(x_test))\n",
    "    col=[\"Predicted Away Win\",\"Predicted Draw\",\"Predicted Home Win\"]\n",
    "    cm=pd.DataFrame(cm)\n",
    "    cm.columns=[\"Predicted Away Win\",\"Predicted Draw\",\"Predicted Home Win\"]\n",
    "    cm.index=[\"Actual Away Win\",\"Actual Draw\",\"Actual Home Win\"]\n",
    "    #cm[col]=np(cm[col])\n",
    "    return cm.T\n",
    "def confusion_matrix_model_train(model_used):\n",
    "    cm=confusion_matrix(y_train,model_used.predict(x_train))\n",
    "    col=[\"Predicted Away Win\",\"Predicted Draw\",\"Predicted Home Win\"]\n",
    "    cm=pd.DataFrame(cm)\n",
    "    cm.columns=[\"Predicted Away Win\",\"Predicted Draw\",\"Predicted Home Win\"]\n",
    "    cm.index=[\"Actual Away Win\",\"Actual Draw\",\"Actual Home Win\"]\n",
    "    #cm[col]=np(cm[col])\n",
    "    return cm.T\n",
    "\n",
    "    \n",
    "def importance_of_features(model):\n",
    "    features = pd.DataFrame()\n",
    "    features['feature'] = x_train.columns\n",
    "    features['importance'] = model.feature_importances_\n",
    "    features.sort_values(by=['importance'], ascending=True, inplace=True)\n",
    "    features.set_index('feature', inplace=True)\n",
    "    return features.plot(kind='barh', figsize=(10,10))"
   ]
  },
  {
   "cell_type": "markdown",
   "metadata": {},
   "source": [
    "Optimised models using GridSearchCV based on F1 score. F1 score gives a weighted average between precisiona and accuracy/recall. It tells you how precise your classifier is (how many instances it classifies correctly), as well as how robust it is (it does not miss a significant number of instances).\n",
    "\n",
    "I have typed in some of the optimised parameters based on the GridSearchCV code, then commented out the GridSearchCV codes to make the notebook run faster."
   ]
  },
  {
   "cell_type": "markdown",
   "metadata": {},
   "source": [
    "**1. Logistic Regression (Lasso)**"
   ]
  },
  {
   "cell_type": "code",
   "execution_count": 8,
   "metadata": {},
   "outputs": [
    {
     "name": "stdout",
     "output_type": "stream",
     "text": [
      "{'C': 0.5}\n",
      "In-sample accuracy: 0.58\n",
      "Test accuracy: 0.48\n",
      "In-sample Precision Score: 0.64\n",
      "Test Precision Score: 0.3\n",
      "In-sample F1 Score: 0.47\n",
      "Test F1 Score: 0.35\n"
     ]
    },
    {
     "data": {
      "text/html": [
       "<div>\n",
       "<style scoped>\n",
       "    .dataframe tbody tr th:only-of-type {\n",
       "        vertical-align: middle;\n",
       "    }\n",
       "\n",
       "    .dataframe tbody tr th {\n",
       "        vertical-align: top;\n",
       "    }\n",
       "\n",
       "    .dataframe thead th {\n",
       "        text-align: right;\n",
       "    }\n",
       "</style>\n",
       "<table border=\"1\" class=\"dataframe\">\n",
       "  <thead>\n",
       "    <tr style=\"text-align: right;\">\n",
       "      <th></th>\n",
       "      <th>Actual Away Win</th>\n",
       "      <th>Actual Draw</th>\n",
       "      <th>Actual Home Win</th>\n",
       "    </tr>\n",
       "  </thead>\n",
       "  <tbody>\n",
       "    <tr>\n",
       "      <th>Predicted Away Win</th>\n",
       "      <td>63</td>\n",
       "      <td>30</td>\n",
       "      <td>21</td>\n",
       "    </tr>\n",
       "    <tr>\n",
       "      <th>Predicted Draw</th>\n",
       "      <td>1</td>\n",
       "      <td>6</td>\n",
       "      <td>1</td>\n",
       "    </tr>\n",
       "    <tr>\n",
       "      <th>Predicted Home Win</th>\n",
       "      <td>46</td>\n",
       "      <td>46</td>\n",
       "      <td>150</td>\n",
       "    </tr>\n",
       "  </tbody>\n",
       "</table>\n",
       "</div>"
      ],
      "text/plain": [
       "                    Actual Away Win  Actual Draw  Actual Home Win\n",
       "Predicted Away Win               63           30               21\n",
       "Predicted Draw                    1            6                1\n",
       "Predicted Home Win               46           46              150"
      ]
     },
     "execution_count": 8,
     "metadata": {},
     "output_type": "execute_result"
    }
   ],
   "source": [
    "param_grid = dict(C=(0.0001,0.001,0.005,0.01,0.1,0.5,1))\n",
    "log_reg1 = GridSearchCV(LogisticRegression(penalty=\"l1\"),param_grid=param_grid,scoring=\"f1_macro\")\n",
    "#log_reg1=LogisticRegression(penalty=\"l1\")\n",
    "log_reg1.fit(x_train,y_train)\n",
    "#predicted=log_reg1.predict(x_test)\n",
    "print(log_reg1.best_params_)\n",
    "print(\"In-sample accuracy: \" + str(train_acc_score(log_reg1)))\n",
    "print(\"Test accuracy: \" + str(test_acc_score(log_reg1)))\n",
    "print (\"In-sample Precision Score: \" + str(train_prec_score(log_reg1)))\n",
    "print (\"Test Precision Score: \" + str(test_prec_score(log_reg1)))\n",
    "print (\"In-sample F1 Score: \" + str(train_f1(log_reg1)))\n",
    "print (\"Test F1 Score: \" + str(test_f1(log_reg1)))\n",
    "confusion_matrix_model_train(log_reg1)"
   ]
  },
  {
   "cell_type": "markdown",
   "metadata": {},
   "source": [
    "**2. Logistic Regression (Ridge)**"
   ]
  },
  {
   "cell_type": "code",
   "execution_count": 9,
   "metadata": {},
   "outputs": [
    {
     "name": "stdout",
     "output_type": "stream",
     "text": [
      "{'C': 0.5}\n",
      "In-sample accuracy: 0.59\n",
      "Test accuracy: 0.46\n",
      "In-sample Precision Score: 0.57\n",
      "Test Precision Score: 0.28\n",
      "In-sample F1 Score: 0.47\n",
      "Test F1 Score: 0.33\n"
     ]
    },
    {
     "data": {
      "text/html": [
       "<div>\n",
       "<style scoped>\n",
       "    .dataframe tbody tr th:only-of-type {\n",
       "        vertical-align: middle;\n",
       "    }\n",
       "\n",
       "    .dataframe tbody tr th {\n",
       "        vertical-align: top;\n",
       "    }\n",
       "\n",
       "    .dataframe thead th {\n",
       "        text-align: right;\n",
       "    }\n",
       "</style>\n",
       "<table border=\"1\" class=\"dataframe\">\n",
       "  <thead>\n",
       "    <tr style=\"text-align: right;\">\n",
       "      <th></th>\n",
       "      <th>Actual Away Win</th>\n",
       "      <th>Actual Draw</th>\n",
       "      <th>Actual Home Win</th>\n",
       "    </tr>\n",
       "  </thead>\n",
       "  <tbody>\n",
       "    <tr>\n",
       "      <th>Predicted Away Win</th>\n",
       "      <td>63</td>\n",
       "      <td>30</td>\n",
       "      <td>20</td>\n",
       "    </tr>\n",
       "    <tr>\n",
       "      <th>Predicted Draw</th>\n",
       "      <td>2</td>\n",
       "      <td>6</td>\n",
       "      <td>3</td>\n",
       "    </tr>\n",
       "    <tr>\n",
       "      <th>Predicted Home Win</th>\n",
       "      <td>45</td>\n",
       "      <td>46</td>\n",
       "      <td>149</td>\n",
       "    </tr>\n",
       "  </tbody>\n",
       "</table>\n",
       "</div>"
      ],
      "text/plain": [
       "                    Actual Away Win  Actual Draw  Actual Home Win\n",
       "Predicted Away Win               63           30               20\n",
       "Predicted Draw                    2            6                3\n",
       "Predicted Home Win               45           46              149"
      ]
     },
     "execution_count": 9,
     "metadata": {},
     "output_type": "execute_result"
    }
   ],
   "source": [
    "param_grid = dict(C=(0.0001,0.001,0.005,0.01,0.1,0.5,1))\n",
    "log_reg2 = GridSearchCV(LogisticRegression(penalty=\"l2\"),param_grid=param_grid,scoring=\"f1_macro\")\n",
    "#log_reg2=LogisticRegression(penalty=\"l2\",C=0.01)\n",
    "log_reg2.fit(x_train,y_train)\n",
    "predicted=log_reg2.predict(x_test)\n",
    "print(log_reg2.best_params_)\n",
    "print(\"In-sample accuracy: \" + str(train_acc_score(log_reg2)))\n",
    "print(\"Test accuracy: \" + str(test_acc_score(log_reg2)))\n",
    "print (\"In-sample Precision Score: \" + str(train_prec_score(log_reg2)))\n",
    "print (\"Test Precision Score: \" + str(test_prec_score(log_reg2)))\n",
    "print (\"In-sample F1 Score: \" + str(train_f1(log_reg2)))\n",
    "print (\"Test F1 Score: \" + str(test_f1(log_reg2)))\n",
    "confusion_matrix_model_train(log_reg2)"
   ]
  },
  {
   "cell_type": "markdown",
   "metadata": {},
   "source": [
    "**3. SVM (RBF Kernel)**"
   ]
  },
  {
   "cell_type": "code",
   "execution_count": 10,
   "metadata": {},
   "outputs": [
    {
     "name": "stdout",
     "output_type": "stream",
     "text": [
      "In-sample accuracy: 0.55\n",
      "Test accuracy: 0.47\n",
      "In-sample Precision Score: 0.38\n",
      "Test Precision Score: 0.29\n",
      "In-sample F1 Score: 0.42\n",
      "Test F1 Score: 0.34\n"
     ]
    },
    {
     "data": {
      "text/html": [
       "<div>\n",
       "<style scoped>\n",
       "    .dataframe tbody tr th:only-of-type {\n",
       "        vertical-align: middle;\n",
       "    }\n",
       "\n",
       "    .dataframe tbody tr th {\n",
       "        vertical-align: top;\n",
       "    }\n",
       "\n",
       "    .dataframe thead th {\n",
       "        text-align: right;\n",
       "    }\n",
       "</style>\n",
       "<table border=\"1\" class=\"dataframe\">\n",
       "  <thead>\n",
       "    <tr style=\"text-align: right;\">\n",
       "      <th></th>\n",
       "      <th>Actual Away Win</th>\n",
       "      <th>Actual Draw</th>\n",
       "      <th>Actual Home Win</th>\n",
       "    </tr>\n",
       "  </thead>\n",
       "  <tbody>\n",
       "    <tr>\n",
       "      <th>Predicted Away Win</th>\n",
       "      <td>57</td>\n",
       "      <td>29</td>\n",
       "      <td>18</td>\n",
       "    </tr>\n",
       "    <tr>\n",
       "      <th>Predicted Draw</th>\n",
       "      <td>0</td>\n",
       "      <td>0</td>\n",
       "      <td>0</td>\n",
       "    </tr>\n",
       "    <tr>\n",
       "      <th>Predicted Home Win</th>\n",
       "      <td>53</td>\n",
       "      <td>53</td>\n",
       "      <td>154</td>\n",
       "    </tr>\n",
       "  </tbody>\n",
       "</table>\n",
       "</div>"
      ],
      "text/plain": [
       "                    Actual Away Win  Actual Draw  Actual Home Win\n",
       "Predicted Away Win               57           29               18\n",
       "Predicted Draw                    0            0                0\n",
       "Predicted Home Win               53           53              154"
      ]
     },
     "execution_count": 10,
     "metadata": {},
     "output_type": "execute_result"
    }
   ],
   "source": [
    "#param_grid = dict(C=(0.001,0.01,0.1,0.5,1,2),gamma=(0.001,0.01,0.1,0.5,1,2))\n",
    "#svc_rbf = GridSearchCV(SVC(kernel=\"rbf\",random_state=0),param_grid=param_grid,scoring=\"f1_macro\")\n",
    "svc_rbf = SVC(kernel='rbf', gamma=0.001, C=0.5,random_state=0)\n",
    "svc_rbf.fit(x_train, y_train)\n",
    "#print(svc_rbf.best_params_)\n",
    "print(\"In-sample accuracy: \" + str(train_acc_score(svc_rbf)))\n",
    "print(\"Test accuracy: \" + str(test_acc_score(svc_rbf)))\n",
    "print (\"In-sample Precision Score: \" + str(train_prec_score(svc_rbf)))\n",
    "print (\"Test Precision Score: \" + str(test_prec_score(svc_rbf)))\n",
    "print (\"In-sample F1 Score: \" + str(train_f1(svc_rbf)))\n",
    "print (\"Test F1 Score: \" + str(test_f1(svc_rbf)))\n",
    "confusion_matrix_model_train(svc_rbf)"
   ]
  },
  {
   "cell_type": "markdown",
   "metadata": {},
   "source": [
    "**4. SVM (Linear Kernel)**"
   ]
  },
  {
   "cell_type": "code",
   "execution_count": 11,
   "metadata": {},
   "outputs": [
    {
     "name": "stdout",
     "output_type": "stream",
     "text": [
      "In-sample accuracy: 0.56\n",
      "Test accuracy: 0.5\n",
      "In-sample Precision Score: 0.72\n",
      "Test Precision Score: 0.31\n",
      "In-sample F1 Score: 0.46\n",
      "Test F1 Score: 0.37\n"
     ]
    },
    {
     "data": {
      "text/html": [
       "<div>\n",
       "<style scoped>\n",
       "    .dataframe tbody tr th:only-of-type {\n",
       "        vertical-align: middle;\n",
       "    }\n",
       "\n",
       "    .dataframe tbody tr th {\n",
       "        vertical-align: top;\n",
       "    }\n",
       "\n",
       "    .dataframe thead th {\n",
       "        text-align: right;\n",
       "    }\n",
       "</style>\n",
       "<table border=\"1\" class=\"dataframe\">\n",
       "  <thead>\n",
       "    <tr style=\"text-align: right;\">\n",
       "      <th></th>\n",
       "      <th>Actual Away Win</th>\n",
       "      <th>Actual Draw</th>\n",
       "      <th>Actual Home Win</th>\n",
       "    </tr>\n",
       "  </thead>\n",
       "  <tbody>\n",
       "    <tr>\n",
       "      <th>Predicted Away Win</th>\n",
       "      <td>65</td>\n",
       "      <td>34</td>\n",
       "      <td>24</td>\n",
       "    </tr>\n",
       "    <tr>\n",
       "      <th>Predicted Draw</th>\n",
       "      <td>0</td>\n",
       "      <td>4</td>\n",
       "      <td>0</td>\n",
       "    </tr>\n",
       "    <tr>\n",
       "      <th>Predicted Home Win</th>\n",
       "      <td>45</td>\n",
       "      <td>44</td>\n",
       "      <td>148</td>\n",
       "    </tr>\n",
       "  </tbody>\n",
       "</table>\n",
       "</div>"
      ],
      "text/plain": [
       "                    Actual Away Win  Actual Draw  Actual Home Win\n",
       "Predicted Away Win               65           34               24\n",
       "Predicted Draw                    0            4                0\n",
       "Predicted Home Win               45           44              148"
      ]
     },
     "execution_count": 11,
     "metadata": {},
     "output_type": "execute_result"
    }
   ],
   "source": [
    "#param_grid = dict(C=(0.001,0.01,0.1,0.5,1,2),gamma=(0.001,0.01,0.1,0.5,1,2))\n",
    "#svc_lin= GridSearchCV(SVC(kernel=\"linear\",random_state=0),param_grid=param_grid,scoring=\"f1_macro\")\n",
    "svc_lin = SVC(kernel='linear', gamma=0.001, C=0.1,random_state=0)\n",
    "svc_lin.fit(x_train, y_train)\n",
    "#print(svc_lin.best_params_)\n",
    "print(\"In-sample accuracy: \" + str(train_acc_score(svc_lin)))\n",
    "print(\"Test accuracy: \" + str(test_acc_score(svc_lin)))\n",
    "print (\"In-sample Precision Score: \" + str(train_prec_score(svc_lin)))\n",
    "print (\"Test Precision Score: \" + str(test_prec_score(svc_lin)))\n",
    "print (\"In-sample F1 Score: \" + str(train_f1(svc_lin)))\n",
    "print (\"Test F1 Score: \" + str(test_f1(svc_lin)))\n",
    "confusion_matrix_model_train(svc_lin)"
   ]
  },
  {
   "cell_type": "markdown",
   "metadata": {},
   "source": [
    "**5. K-Nearest Neighbour**"
   ]
  },
  {
   "cell_type": "code",
   "execution_count": 12,
   "metadata": {},
   "outputs": [
    {
     "name": "stdout",
     "output_type": "stream",
     "text": [
      "In-sample accuracy: 0.54\n",
      "Test accuracy: 0.46\n",
      "In-sample Precision Score: 0.54\n",
      "Test Precision Score: 0.34\n",
      "In-sample F1 Score: 0.5\n",
      "Test F1 Score: 0.35\n"
     ]
    },
    {
     "data": {
      "text/html": [
       "<div>\n",
       "<style scoped>\n",
       "    .dataframe tbody tr th:only-of-type {\n",
       "        vertical-align: middle;\n",
       "    }\n",
       "\n",
       "    .dataframe tbody tr th {\n",
       "        vertical-align: top;\n",
       "    }\n",
       "\n",
       "    .dataframe thead th {\n",
       "        text-align: right;\n",
       "    }\n",
       "</style>\n",
       "<table border=\"1\" class=\"dataframe\">\n",
       "  <thead>\n",
       "    <tr style=\"text-align: right;\">\n",
       "      <th></th>\n",
       "      <th>Actual Away Win</th>\n",
       "      <th>Actual Draw</th>\n",
       "      <th>Actual Home Win</th>\n",
       "    </tr>\n",
       "  </thead>\n",
       "  <tbody>\n",
       "    <tr>\n",
       "      <th>Predicted Away Win</th>\n",
       "      <td>62</td>\n",
       "      <td>31</td>\n",
       "      <td>18</td>\n",
       "    </tr>\n",
       "    <tr>\n",
       "      <th>Predicted Draw</th>\n",
       "      <td>9</td>\n",
       "      <td>11</td>\n",
       "      <td>7</td>\n",
       "    </tr>\n",
       "    <tr>\n",
       "      <th>Predicted Home Win</th>\n",
       "      <td>39</td>\n",
       "      <td>40</td>\n",
       "      <td>147</td>\n",
       "    </tr>\n",
       "  </tbody>\n",
       "</table>\n",
       "</div>"
      ],
      "text/plain": [
       "                    Actual Away Win  Actual Draw  Actual Home Win\n",
       "Predicted Away Win               62           31               18\n",
       "Predicted Draw                    9           11                7\n",
       "Predicted Home Win               39           40              147"
      ]
     },
     "execution_count": 12,
     "metadata": {},
     "output_type": "execute_result"
    }
   ],
   "source": [
    "#param_grid = dict(n_neighbors=np.arange(10,70),weights=(\"uniform\",\"distance\"),p=(1,2))\n",
    "#KNN = GridSearchCV(KNeighborsClassifier(),param_grid=param_grid,scoring=\"f1_macro\")\n",
    "KNN=KNeighborsClassifier(n_neighbors=16,p=1,weights='uniform')\n",
    "KNN.fit(x_train,y_train)\n",
    "predicted=KNN.predict(x_test)\n",
    "#print(KNN.best_params_)\n",
    "print(\"In-sample accuracy: \" + str(train_acc_score(KNN)))\n",
    "print(\"Test accuracy: \" + str(test_acc_score(KNN)))\n",
    "print (\"In-sample Precision Score: \" + str(train_prec_score(KNN)))\n",
    "print (\"Test Precision Score: \" + str(test_prec_score(KNN)))\n",
    "print (\"In-sample F1 Score: \" + str(train_f1(KNN)))\n",
    "print (\"Test F1 Score: \" + str(test_f1(KNN)))\n",
    "confusion_matrix_model_train(KNN)"
   ]
  },
  {
   "cell_type": "markdown",
   "metadata": {},
   "source": [
    "**6. Decision Tree**"
   ]
  },
  {
   "cell_type": "code",
   "execution_count": 13,
   "metadata": {},
   "outputs": [
    {
     "name": "stdout",
     "output_type": "stream",
     "text": [
      "In-sample accuracy: 0.43\n",
      "Test accuracy: 0.47\n",
      "In-sample Precision Score: 0.75\n",
      "Test Precision Score: 0.4\n",
      "In-sample F1 Score: 0.73\n",
      "Test F1 Score: 0.4\n"
     ]
    },
    {
     "data": {
      "text/html": [
       "<div>\n",
       "<style scoped>\n",
       "    .dataframe tbody tr th:only-of-type {\n",
       "        vertical-align: middle;\n",
       "    }\n",
       "\n",
       "    .dataframe tbody tr th {\n",
       "        vertical-align: top;\n",
       "    }\n",
       "\n",
       "    .dataframe thead th {\n",
       "        text-align: right;\n",
       "    }\n",
       "</style>\n",
       "<table border=\"1\" class=\"dataframe\">\n",
       "  <thead>\n",
       "    <tr style=\"text-align: right;\">\n",
       "      <th></th>\n",
       "      <th>Actual Away Win</th>\n",
       "      <th>Actual Draw</th>\n",
       "      <th>Actual Home Win</th>\n",
       "    </tr>\n",
       "  </thead>\n",
       "  <tbody>\n",
       "    <tr>\n",
       "      <th>Predicted Away Win</th>\n",
       "      <td>75</td>\n",
       "      <td>15</td>\n",
       "      <td>7</td>\n",
       "    </tr>\n",
       "    <tr>\n",
       "      <th>Predicted Draw</th>\n",
       "      <td>6</td>\n",
       "      <td>49</td>\n",
       "      <td>13</td>\n",
       "    </tr>\n",
       "    <tr>\n",
       "      <th>Predicted Home Win</th>\n",
       "      <td>29</td>\n",
       "      <td>18</td>\n",
       "      <td>152</td>\n",
       "    </tr>\n",
       "  </tbody>\n",
       "</table>\n",
       "</div>"
      ],
      "text/plain": [
       "                    Actual Away Win  Actual Draw  Actual Home Win\n",
       "Predicted Away Win               75           15                7\n",
       "Predicted Draw                    6           49               13\n",
       "Predicted Home Win               29           18              152"
      ]
     },
     "execution_count": 13,
     "metadata": {},
     "output_type": "execute_result"
    }
   ],
   "source": [
    "#param_grid = dict(max_depth=np.arange(4,10),min_samples_leaf=np.arange(1,8),min_samples_split=np.arange(2,8),max_leaf_nodes=np.arange(30,100,10))\n",
    "#Dec_tree = GridSearchCV(DecisionTreeClassifier(),param_grid=param_grid,scoring=\"f1_macro\")\n",
    "Dec_tree=DecisionTreeClassifier(max_depth= 8, max_leaf_nodes= 40, min_samples_leaf= 1, min_samples_split= 7)\n",
    "Dec_tree.fit(x_train,y_train)\n",
    "predicted=Dec_tree.predict(x_test)\n",
    "#print(Dec_tree.best_params_)\n",
    "print(\"In-sample accuracy: \" + str(train_acc_score(Dec_tree)))\n",
    "print(\"Test accuracy: \" + str(test_acc_score(Dec_tree)))\n",
    "print (\"In-sample Precision Score: \" + str(train_prec_score(Dec_tree)))\n",
    "print (\"Test Precision Score: \" + str(test_prec_score(Dec_tree)))\n",
    "print (\"In-sample F1 Score: \" + str(train_f1(Dec_tree)))\n",
    "print (\"Test F1 Score: \" + str(test_f1(Dec_tree)))\n",
    "confusion_matrix_model_train(Dec_tree)"
   ]
  },
  {
   "cell_type": "markdown",
   "metadata": {},
   "source": [
    "**7. Random Forest**"
   ]
  },
  {
   "cell_type": "code",
   "execution_count": 14,
   "metadata": {},
   "outputs": [
    {
     "name": "stdout",
     "output_type": "stream",
     "text": [
      "In-sample accuracy: 0.55\n",
      "Test accuracy: 0.49\n",
      "In-sample Precision Score: 0.73\n",
      "Test Precision Score: 0.42\n",
      "In-sample F1 Score: 0.55\n",
      "Test F1 Score: 0.38\n"
     ]
    },
    {
     "data": {
      "text/html": [
       "<div>\n",
       "<style scoped>\n",
       "    .dataframe tbody tr th:only-of-type {\n",
       "        vertical-align: middle;\n",
       "    }\n",
       "\n",
       "    .dataframe tbody tr th {\n",
       "        vertical-align: top;\n",
       "    }\n",
       "\n",
       "    .dataframe thead th {\n",
       "        text-align: right;\n",
       "    }\n",
       "</style>\n",
       "<table border=\"1\" class=\"dataframe\">\n",
       "  <thead>\n",
       "    <tr style=\"text-align: right;\">\n",
       "      <th></th>\n",
       "      <th>Actual Away Win</th>\n",
       "      <th>Actual Draw</th>\n",
       "      <th>Actual Home Win</th>\n",
       "    </tr>\n",
       "  </thead>\n",
       "  <tbody>\n",
       "    <tr>\n",
       "      <th>Predicted Away Win</th>\n",
       "      <td>74</td>\n",
       "      <td>26</td>\n",
       "      <td>19</td>\n",
       "    </tr>\n",
       "    <tr>\n",
       "      <th>Predicted Draw</th>\n",
       "      <td>1</td>\n",
       "      <td>11</td>\n",
       "      <td>0</td>\n",
       "    </tr>\n",
       "    <tr>\n",
       "      <th>Predicted Home Win</th>\n",
       "      <td>35</td>\n",
       "      <td>45</td>\n",
       "      <td>153</td>\n",
       "    </tr>\n",
       "  </tbody>\n",
       "</table>\n",
       "</div>"
      ],
      "text/plain": [
       "                    Actual Away Win  Actual Draw  Actual Home Win\n",
       "Predicted Away Win               74           26               19\n",
       "Predicted Draw                    1           11                0\n",
       "Predicted Home Win               35           45              153"
      ]
     },
     "execution_count": 14,
     "metadata": {},
     "output_type": "execute_result"
    }
   ],
   "source": [
    "#param_grid = dict(max_depth=np.arange(3,10),min_samples_leaf=np.arange(1,10),min_samples_split=np.arange(2,6),max_leaf_nodes=np.arange(50,120,10))\n",
    "#param_grid = dict(n_estimators = np.arange(50,500,50))\n",
    "#ranfor = GridSearchCV(RandomForestClassifier(max_depth= 7, max_leaf_nodes=50, min_samples_leaf= 7, min_samples_split= 4,random_state=0),param_grid=param_grid,scoring=\"f1_macro\")\n",
    "ranfor = RandomForestClassifier(n_estimators=50,max_depth= 7, max_leaf_nodes=50, min_samples_leaf= 7, min_samples_split= 4,random_state=0)\n",
    "ranfor.fit(x_train,y_train)\n",
    "predicted=ranfor.predict(x_test)\n",
    "#print(ranfor.best_params_)\n",
    "print(\"In-sample accuracy: \" + str(train_acc_score(ranfor)))\n",
    "print(\"Test accuracy: \" + str(test_acc_score(ranfor)))\n",
    "print (\"In-sample Precision Score: \" + str(train_prec_score(ranfor)))\n",
    "print (\"Test Precision Score: \" + str(test_prec_score(ranfor)))\n",
    "print (\"In-sample F1 Score: \" + str(train_f1(ranfor)))\n",
    "print (\"Test F1 Score: \" + str(test_f1(ranfor)))\n",
    "confusion_matrix_model_train(ranfor)"
   ]
  },
  {
   "cell_type": "markdown",
   "metadata": {},
   "source": [
    "**8. XGBoosting**"
   ]
  },
  {
   "cell_type": "code",
   "execution_count": 22,
   "metadata": {},
   "outputs": [
    {
     "name": "stdout",
     "output_type": "stream",
     "text": [
      "In-sample accuracy: 0.49\n",
      "Test accuracy: 0.52\n",
      "In-sample Precision Score: 0.99\n",
      "Test Precision Score: 0.5\n",
      "In-sample F1 Score: 0.98\n",
      "Test F1 Score: 0.48\n"
     ]
    },
    {
     "data": {
      "text/html": [
       "<div>\n",
       "<style scoped>\n",
       "    .dataframe tbody tr th:only-of-type {\n",
       "        vertical-align: middle;\n",
       "    }\n",
       "\n",
       "    .dataframe tbody tr th {\n",
       "        vertical-align: top;\n",
       "    }\n",
       "\n",
       "    .dataframe thead th {\n",
       "        text-align: right;\n",
       "    }\n",
       "</style>\n",
       "<table border=\"1\" class=\"dataframe\">\n",
       "  <thead>\n",
       "    <tr style=\"text-align: right;\">\n",
       "      <th></th>\n",
       "      <th>Actual Away Win</th>\n",
       "      <th>Actual Draw</th>\n",
       "      <th>Actual Home Win</th>\n",
       "    </tr>\n",
       "  </thead>\n",
       "  <tbody>\n",
       "    <tr>\n",
       "      <th>Predicted Away Win</th>\n",
       "      <td>110</td>\n",
       "      <td>0</td>\n",
       "      <td>0</td>\n",
       "    </tr>\n",
       "    <tr>\n",
       "      <th>Predicted Draw</th>\n",
       "      <td>0</td>\n",
       "      <td>78</td>\n",
       "      <td>1</td>\n",
       "    </tr>\n",
       "    <tr>\n",
       "      <th>Predicted Home Win</th>\n",
       "      <td>0</td>\n",
       "      <td>4</td>\n",
       "      <td>171</td>\n",
       "    </tr>\n",
       "  </tbody>\n",
       "</table>\n",
       "</div>"
      ],
      "text/plain": [
       "                    Actual Away Win  Actual Draw  Actual Home Win\n",
       "Predicted Away Win              110            0                0\n",
       "Predicted Draw                    0           78                1\n",
       "Predicted Home Win                0            4              171"
      ]
     },
     "execution_count": 22,
     "metadata": {},
     "output_type": "execute_result"
    }
   ],
   "source": [
    "#param_grid = dict(n_estimators=np.arange(50,500,50),max_depth=np.arange(6,12),learning_rate=(0.0001,0.001,0.01,0.1))\n",
    "#xgclass = GridSearchCV(xgb.XGBClassifier(random_state=0),param_grid=param_grid,scoring=\"f1_macro\")\n",
    "xgclass = xgb.XGBClassifier(max_depth=9, n_estimators=450, learning_rate=0.01)\n",
    "xgclass.fit(x_train,y_train)\n",
    "predicted=xgclass.predict(x_test)\n",
    "#print(xgclass.best_params_)\n",
    "print(\"In-sample accuracy: \" + str(train_acc_score(xgclass)))\n",
    "print(\"Test accuracy: \" + str(test_acc_score(xgclass)))\n",
    "print (\"In-sample Precision Score: \" + str(train_prec_score(xgclass)))\n",
    "print (\"Test Precision Score: \" + str(test_prec_score(xgclass)))\n",
    "print (\"In-sample F1 Score: \" + str(train_f1(xgclass)))\n",
    "print (\"Test F1 Score: \" + str(test_f1(xgclass)))\n",
    "confusion_matrix_model_train(xgclass)"
   ]
  },
  {
   "cell_type": "code",
   "execution_count": 18,
   "metadata": {},
   "outputs": [
    {
     "data": {
      "text/plain": [
       "<matplotlib.axes._subplots.AxesSubplot at 0x7fa303959908>"
      ]
     },
     "execution_count": 18,
     "metadata": {},
     "output_type": "execute_result"
    },
    {
     "data": {
      "image/png": "[encoded data removed]",
      "text/plain": [
       "<Figure size 720x720 with 1 Axes>"
      ]
     },
     "metadata": {},
     "output_type": "display_data"
    }
   ],
   "source": [
    "importance_of_features(xgclass)"
   ]
  },
  {
   "cell_type": "markdown",
   "metadata": {},
   "source": [
    "# **Evaluation**"
   ]
  },
  {
   "cell_type": "code",
   "execution_count": 16,
   "metadata": {},
   "outputs": [
    {
     "data": {
      "text/html": [
       "<div>\n",
       "<style scoped>\n",
       "    .dataframe tbody tr th:only-of-type {\n",
       "        vertical-align: middle;\n",
       "    }\n",
       "\n",
       "    .dataframe tbody tr th {\n",
       "        vertical-align: top;\n",
       "    }\n",
       "\n",
       "    .dataframe thead th {\n",
       "        text-align: right;\n",
       "    }\n",
       "</style>\n",
       "<table border=\"1\" class=\"dataframe\">\n",
       "  <thead>\n",
       "    <tr style=\"text-align: right;\">\n",
       "      <th></th>\n",
       "      <th>Classifier</th>\n",
       "      <th>Training Accuracy</th>\n",
       "      <th>Test Accuracy</th>\n",
       "      <th>Training Precision</th>\n",
       "      <th>Test Precision</th>\n",
       "      <th>Training F1 Score</th>\n",
       "      <th>Test F1 Score</th>\n",
       "    </tr>\n",
       "  </thead>\n",
       "  <tbody>\n",
       "    <tr>\n",
       "      <th>0</th>\n",
       "      <td>Logistic Regression (Lasso)</td>\n",
       "      <td>0.58</td>\n",
       "      <td>0.48</td>\n",
       "      <td>0.64</td>\n",
       "      <td>0.30</td>\n",
       "      <td>0.47</td>\n",
       "      <td>0.35</td>\n",
       "    </tr>\n",
       "    <tr>\n",
       "      <th>1</th>\n",
       "      <td>Logistic Regression (Ridge)</td>\n",
       "      <td>0.59</td>\n",
       "      <td>0.46</td>\n",
       "      <td>0.57</td>\n",
       "      <td>0.28</td>\n",
       "      <td>0.47</td>\n",
       "      <td>0.33</td>\n",
       "    </tr>\n",
       "    <tr>\n",
       "      <th>2</th>\n",
       "      <td>Support Vector Machine (RBF)</td>\n",
       "      <td>0.55</td>\n",
       "      <td>0.47</td>\n",
       "      <td>0.38</td>\n",
       "      <td>0.29</td>\n",
       "      <td>0.42</td>\n",
       "      <td>0.34</td>\n",
       "    </tr>\n",
       "    <tr>\n",
       "      <th>3</th>\n",
       "      <td>Support Vector Machine(Linear)</td>\n",
       "      <td>0.56</td>\n",
       "      <td>0.50</td>\n",
       "      <td>0.72</td>\n",
       "      <td>0.31</td>\n",
       "      <td>0.46</td>\n",
       "      <td>0.37</td>\n",
       "    </tr>\n",
       "    <tr>\n",
       "      <th>4</th>\n",
       "      <td>K-Nearest Neighbours</td>\n",
       "      <td>0.54</td>\n",
       "      <td>0.46</td>\n",
       "      <td>0.54</td>\n",
       "      <td>0.34</td>\n",
       "      <td>0.50</td>\n",
       "      <td>0.35</td>\n",
       "    </tr>\n",
       "    <tr>\n",
       "      <th>5</th>\n",
       "      <td>Decision Tree</td>\n",
       "      <td>0.43</td>\n",
       "      <td>0.47</td>\n",
       "      <td>0.75</td>\n",
       "      <td>0.40</td>\n",
       "      <td>0.73</td>\n",
       "      <td>0.40</td>\n",
       "    </tr>\n",
       "    <tr>\n",
       "      <th>6</th>\n",
       "      <td>Random Forest</td>\n",
       "      <td>0.55</td>\n",
       "      <td>0.49</td>\n",
       "      <td>0.73</td>\n",
       "      <td>0.42</td>\n",
       "      <td>0.55</td>\n",
       "      <td>0.38</td>\n",
       "    </tr>\n",
       "    <tr>\n",
       "      <th>7</th>\n",
       "      <td>XGBoost</td>\n",
       "      <td>0.49</td>\n",
       "      <td>0.52</td>\n",
       "      <td>0.99</td>\n",
       "      <td>0.50</td>\n",
       "      <td>0.98</td>\n",
       "      <td>0.48</td>\n",
       "    </tr>\n",
       "  </tbody>\n",
       "</table>\n",
       "</div>"
      ],
      "text/plain": [
       "                       Classifier  Training Accuracy  Test Accuracy  Training Precision  Test Precision  Training F1 Score  Test F1 Score\n",
       "0     Logistic Regression (Lasso)               0.58           0.48                0.64            0.30               0.47           0.35\n",
       "1     Logistic Regression (Ridge)               0.59           0.46                0.57            0.28               0.47           0.33\n",
       "2    Support Vector Machine (RBF)               0.55           0.47                0.38            0.29               0.42           0.34\n",
       "3  Support Vector Machine(Linear)               0.56           0.50                0.72            0.31               0.46           0.37\n",
       "4            K-Nearest Neighbours               0.54           0.46                0.54            0.34               0.50           0.35\n",
       "5                   Decision Tree               0.43           0.47                0.75            0.40               0.73           0.40\n",
       "6                   Random Forest               0.55           0.49                0.73            0.42               0.55           0.38\n",
       "7                         XGBoost               0.49           0.52                0.99            0.50               0.98           0.48"
      ]
     },
     "execution_count": 16,
     "metadata": {},
     "output_type": "execute_result"
    }
   ],
   "source": [
    "Classifiers=[\"Logistic Regression (Lasso)\",\"Logistic Regression (Ridge)\",\"Support Vector Machine (RBF)\",\"Support Vector Machine(Linear)\",\"K-Nearest Neighbours\",\"Decision Tree\",\"Random Forest\",\"XGBoost\"]\n",
    "in_sample_acc=[round(train_acc_score(x),2) for x in [log_reg1,log_reg2,svc_rbf,svc_lin,KNN,Dec_tree,ranfor,xgclass]]\n",
    "test_acc=[round(test_acc_score(x),2) for x in [log_reg1,log_reg2,svc_rbf,svc_lin,KNN,Dec_tree,ranfor,xgclass]]\n",
    "train_prec = [round(train_prec_score(x),2) for x in [log_reg1,log_reg2,svc_rbf,svc_lin,KNN,Dec_tree,ranfor,xgclass]]\n",
    "test_prec = [round(test_prec_score(x),2) for x in [log_reg1,log_reg2,svc_rbf,svc_lin,KNN,Dec_tree,ranfor,xgclass]]\n",
    "trainf1 = [train_f1(x) for x in [log_reg1,log_reg2,svc_rbf,svc_lin,KNN,Dec_tree,ranfor,xgclass]]\n",
    "testf1 = [test_f1(x) for x in [log_reg1,log_reg2,svc_rbf,svc_lin,KNN,Dec_tree,ranfor,xgclass]]\n",
    "cols=[\"Classifier\",\"Training Accuracy\",\"Test Accuracy\",\"Training Precision\",\"Test Precision\",\"Training F1 Score\",\"Test F1 Score\"]\n",
    "profit_results = pd.DataFrame(columns=cols)\n",
    "profit_results[\"Classifier\"]=Classifiers\n",
    "profit_results[\"Training Accuracy\"]=in_sample_acc\n",
    "profit_results[\"Test Accuracy\"]=test_acc\n",
    "profit_results[\"Training Precision\"]=train_prec\n",
    "profit_results[\"Test Precision\"]=test_prec\n",
    "profit_results[\"Training F1 Score\"]=trainf1\n",
    "profit_results[\"Test F1 Score\"]=testf1\n",
    "profit_results"
   ]
  },
  {
   "cell_type": "markdown",
   "metadata": {},
   "source": [
    "Selected model: \n",
    "\n",
    "XGBoost --> Highest Test set accuracy, precision and F1 score"
   ]
  },
  {
   "cell_type": "code",
   "execution_count": null,
   "metadata": {},
   "outputs": [],
   "source": []
  }
 ],
 "metadata": {
  "kernelspec": {
   "display_name": "Python 3",
   "language": "python",
   "name": "python3"
  },
  "language_info": {
   "codemirror_mode": {
    "name": "ipython",
    "version": 3
   },
   "file_extension": ".py",
   "mimetype": "text/x-python",
   "name": "python",
   "nbconvert_exporter": "python",
   "pygments_lexer": "ipython3",
   "version": "3.6.5"
  }
 },
 "nbformat": 4,
 "nbformat_minor": 2
}
